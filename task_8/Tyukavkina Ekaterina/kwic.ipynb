{
 "cells": [
  {
   "cell_type": "code",
   "execution_count": 23,
   "id": "48ac7f93-05ed-48ac-acfd-ce83ed7e2b46",
   "metadata": {},
   "outputs": [],
   "source": [
    "import re"
   ]
  },
  {
   "cell_type": "code",
   "execution_count": 197,
   "id": "e4c0e621-7baf-4f6d-bf97-e1e283fa1c5d",
   "metadata": {},
   "outputs": [],
   "source": [
    "ignore_words = ['в', 'на', 'не', 'с', 'а', 'и', 'для', 'так', 'как']\n",
    "ignore_symbols = ['\\\\.', '\\\\:', '\\\\-', '\\\\;']\n",
    "\n",
    "text = '''  Описание\n",
    "            Обновленная PlayStation 5 Slim— уменьшенная облегченная версия стандартной консоли Sony.\n",
    "            \n",
    "            Тонкий дизайн\n",
    "            Новая консоль PlayStation 5 Slim компактнее своей предшественницы на целых 30%. Sony сократили размер корпуса и уменьшили вес на 24%. Теперь найти место для любимой консоли PS5 Slim, стало еще проще.\n",
    "            \n",
    "            Объем памяти 1 ТБ\n",
    "            Встроенная память системы PS5 Slim, увеличилась с 825 ГБ до 1 ТБ. Храните ваши любимые игры наготове и ждите, когда вы начнете играть, благодаря встроенному накопителю емкостью 1 ТБ.\n",
    "            \n",
    "            Ничего лишнего\n",
    "            Добавление второго фронтального разъёма USB Type-C гарантирует еще больше удобства при подключении переферии. А новое расположение кнопок извлечения диска и включения консоли устраняет путаницу при взаимодействии с PS5, делая их использование интуитивно понятным.\n",
    "            \n",
    "            Сверхскоростной SSD накопитель\n",
    "            Загрузка происходит быстрее, благодаря сверхбыстрому накопителю. Вас ждет совершенно новое поколение впечатляющих игр для PlayStation, в которых вы сможете погрузиться. Почувствуйте игры на себе, благодаря поддержке тактильной обратной связи, адаптивных триггеров и 3D-звука.\n",
    "            \n",
    "            Интегрированный ввод-вывод\n",
    "            С PS5 Slim игроки получают мощные игровые технологии, интегрированные в тонкий и компактный дизайн. Приготовьте свои любимые игры и сразу же начинайте играть благодаря встроенному накопителю SSD объемом 1 ТБ.\n",
    "            \n",
    "            До 120 кадров в секунду\n",
    "            Наслаждайтесь плавным игровым процессом с высокой частотой кадров до 120 кадров в секунду для совместимых игр с поддержкой частоты 120 Гц на дисплеях 4K.'''\n"
   ]
  },
  {
   "cell_type": "code",
   "execution_count": 199,
   "id": "b392d4b6-5c23-4b92-931f-89bd0a56cac9",
   "metadata": {},
   "outputs": [
    {
     "name": "stdin",
     "output_type": "stream",
     "text": [
      " playstation slim\n"
     ]
    },
    {
     "name": "stdout",
     "output_type": "stream",
     "text": [
      "Top results for playstation slim:\n",
      "описание обновленная playstation 5 slim— уменьшенная облегченная\n",
      "дизайн новая консоль playstation 5 slim компактнее своей предшественницы на\n",
      "3d-звука. интегрированный ввод-вывод с ps5 slim игроки получают мощные игровые\n",
      "sony. тонкий дизайн новая консоль playstation 5 slim компактнее своей\n"
     ]
    }
   ],
   "source": [
    "class Filter:\n",
    "    def __init__(self):\n",
    "        self.ignore_words = ignore_words\n",
    "        self.ignore_symbols = ignore_symbols\n",
    "\n",
    "    def filter_word(self, word):\n",
    "        word = re.sub('$|^'.join(self.ignore_words), '', word)\n",
    "        word = re.sub('|'.join(self.ignore_symbols), '', word)\n",
    "        return word\n",
    "\n",
    "    def filter_sentence(self, sentence):\n",
    "        sentence = [self.filter_word(word.lower()) for word in sentence.split()]\n",
    "        return sentence\n",
    "\n",
    "\n",
    "class Index:\n",
    "    \"\"\"Class to represent word index\"\"\"\n",
    "    def __init__(self):\n",
    "        self.line_length = 5\n",
    "        \n",
    "    def create_index(self, text):\n",
    "        filter = Filter()\n",
    "        text = [i.lower() for i in text.split()]\n",
    "        index = {}\n",
    "        for i, word in enumerate(text):\n",
    "            filtered_word = filter.filter_word(word)\n",
    "            if filtered_word:\n",
    "                start = i - self.line_length if i > self.line_length else 0\n",
    "                end = i + self.line_length if i + self.line_length <= len(text) else len(text)\n",
    "                sentence = ' '.join(text[start:end:1])\n",
    "                if filtered_word not in index:\n",
    "                    index[filtered_word] = [sentence]\n",
    "                else:\n",
    "                    index[filtered_word].append(sentence)\n",
    "                \n",
    "        return index\n",
    "\n",
    "\n",
    "class WordSearcher:\n",
    "    \"\"\"WordSearcher class filters input sentence and finds concordance lines in given text.\"\"\"\n",
    "    def __init__(self, sentence):\n",
    "        self.sentence = sentence\n",
    "        self.text = text\n",
    "\n",
    "        \n",
    "    def search_words(self):\n",
    "        i = Index()\n",
    "        index = i.create_index(self.text)\n",
    "        \n",
    "        filter = Filter()\n",
    "        sentence = filter.filter_sentence(self.sentence)\n",
    "        \n",
    "        results = []\n",
    "        for word in sentence:\n",
    "            if word in index:\n",
    "                results.append(index[word])\n",
    "                \n",
    "        results = set(sum(results, []))\n",
    "        \n",
    "        return results\n",
    "\n",
    "\n",
    "if __name__ == \"__main__\":\n",
    "    sentence = str(input())\n",
    "    searcher = WordSearcher(sentence)\n",
    "    results = searcher.search_words()\n",
    "    title = f'Top results for {sentence}:' if results else 'No results'\n",
    "    print(title)\n",
    "    print(*results, sep='\\n')"
   ]
  },
  {
   "cell_type": "code",
   "execution_count": null,
   "id": "976696f7-38d1-449a-be0b-8e9bca47c6ac",
   "metadata": {},
   "outputs": [],
   "source": []
  }
 ],
 "metadata": {
  "kernelspec": {
   "display_name": "Python 3 (ipykernel)",
   "language": "python",
   "name": "python3"
  },
  "language_info": {
   "codemirror_mode": {
    "name": "ipython",
    "version": 3
   },
   "file_extension": ".py",
   "mimetype": "text/x-python",
   "name": "python",
   "nbconvert_exporter": "python",
   "pygments_lexer": "ipython3",
   "version": "3.12.4"
  }
 },
 "nbformat": 4,
 "nbformat_minor": 5
}
